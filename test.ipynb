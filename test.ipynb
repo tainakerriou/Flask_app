{
 "cells": [
  {
   "cell_type": "code",
   "execution_count": 3,
   "metadata": {},
   "outputs": [],
   "source": [
    "from pytrends.request import TrendReq\n",
    "import matplotlib.pyplot as plt"
   ]
  },
  {
   "cell_type": "code",
   "execution_count": null,
   "metadata": {},
   "outputs": [],
   "source": []
  },
  {
   "cell_type": "code",
   "execution_count": 21,
   "metadata": {},
   "outputs": [
    {
     "name": "stdout",
     "output_type": "stream",
     "text": [
      "            avatar  inception  isPartial\n",
      "date                                    \n",
      "2022-01-09       6          1      False\n",
      "2022-01-16       6          1      False\n",
      "2022-01-23       5          1      False\n",
      "2022-01-30       6          1      False\n",
      "2022-02-06       6          1      False\n",
      "2022-02-13       6          1      False\n",
      "2022-02-20       6          1      False\n",
      "2022-02-27       5          1      False\n",
      "2022-03-06       5          1      False\n",
      "2022-03-13       6          1      False\n",
      "2022-03-20       6          1      False\n",
      "2022-03-27       6          1      False\n",
      "2022-04-03       6          1      False\n",
      "2022-04-10       6          1      False\n",
      "2022-04-17       6          1      False\n",
      "2022-04-24       8          1      False\n",
      "2022-05-01       8          1      False\n",
      "2022-05-08      15          1      False\n",
      "2022-05-15       9          1      False\n",
      "2022-05-22       7          1      False\n",
      "2022-05-29       8          1      False\n",
      "2022-06-05       7          1      False\n",
      "2022-06-12       7          1      False\n",
      "2022-06-19       8          1      False\n",
      "2022-06-26       7          1      False\n",
      "2022-07-03       8          1      False\n",
      "2022-07-10       7          1      False\n",
      "2022-07-17       8          1      False\n",
      "2022-07-24       7          1      False\n",
      "2022-07-31       7          1      False\n",
      "2022-08-07       7          1      False\n",
      "2022-08-14       6          1      False\n",
      "2022-08-21       7          1      False\n",
      "2022-08-28       6          1      False\n",
      "2022-09-04       7          1      False\n",
      "2022-09-11       9          1      False\n",
      "2022-09-18      15          1      False\n",
      "2022-09-25      14          1      False\n",
      "2022-10-02      10          1      False\n",
      "2022-10-09       8          1      False\n",
      "2022-10-16       7          1      False\n",
      "2022-10-23       7          1      False\n",
      "2022-10-30      11          1      False\n",
      "2022-11-06       9          1      False\n",
      "2022-11-13       9          1      False\n",
      "2022-11-20      20          1      False\n",
      "2022-11-27      16          1      False\n",
      "2022-12-04      24          1      False\n",
      "2022-12-11      74          1      False\n",
      "2022-12-18      99          1      False\n",
      "2022-12-25     100          1       True\n"
     ]
    },
    {
     "data": {
      "text/plain": [
       "<matplotlib.legend.Legend at 0x7f4ea12d4640>"
      ]
     },
     "execution_count": 21,
     "metadata": {},
     "output_type": "execute_result"
    },
    {
     "data": {
      "image/png": "[encoded data removed]",
      "text/plain": [
       "<Figure size 640x480 with 1 Axes>"
      ]
     },
     "metadata": {},
     "output_type": "display_data"
    }
   ],
   "source": [
    "pytrends = TrendReq(hl='en-US', tz=360)\n",
    "\n",
    "kw_list=['avatar','inception']\n",
    "pytrends.build_payload(kw_list, timeframe='2022-01-09 2023-01-01', geo='US')\n",
    "df = pytrends.interest_over_time()\n",
    "print(df)\n",
    "\n",
    "plt.figure()\n",
    "plt.plot(df.index,df.avatar,'k*')\n",
    "plt.plot(df.index,df.inception,'r*')\n",
    "plt.legend(['avatar','inception'])\n",
    "\n"
   ]
  }
 ],
 "metadata": {
  "kernelspec": {
   "display_name": "Python 3.10.6 64-bit",
   "language": "python",
   "name": "python3"
  },
  "language_info": {
   "codemirror_mode": {
    "name": "ipython",
    "version": 3
   },
   "file_extension": ".py",
   "mimetype": "text/x-python",
   "name": "python",
   "nbconvert_exporter": "python",
   "pygments_lexer": "ipython3",
   "version": "3.10.6"
  },
  "orig_nbformat": 4,
  "vscode": {
   "interpreter": {
    "hash": "916dbcbb3f70747c44a77c7bcd40155683ae19c65e1c03b4aa3499c5328201f1"
   }
  }
 },
 "nbformat": 4,
 "nbformat_minor": 2
}
